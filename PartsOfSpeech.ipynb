{
 "cells": [
  {
   "cell_type": "markdown",
   "metadata": {},
   "source": [
    "\"CC coordinating conjunction \",\n",
    "\n",
    "\"CD cardinal digit \",    \n",
    "\n",
    "\"DT determiner \",  \n",
    "\n",
    "\"EX existential there (like: “there is” … think of it like “there exists”)\",\n",
    "\n",
    "\"FW foreign word \",\n",
    "\n",
    "\"IN preposition/subordinating conjunction \",\n",
    "\n",
    "\"JJ adjective – ‘big’ \",    \n",
    "\n",
    "\"JJR adjective, comparative – ‘bigger’ \",   \n",
    "\n",
    "\"JJS adjective, superlative – ‘biggest’ \",    \n",
    "\n",
    "\"LS list marker 1) \",    \n",
    "\n",
    "\"MD modal – could, will \",   \n",
    "\n",
    "\"NN noun, singular ‘- desk’ \",    \n",
    "\n",
    "\"NNS noun plural – ‘desks’ \",    \n",
    "\n",
    "\"NNP proper noun, singular – ‘Harrison’ \",    \n",
    "\n",
    "\"NNPS proper noun, plural – ‘Americans’ \",    \n",
    "\n",
    "\"PDT predeterminer – ‘all the kids’ \",    \n",
    "\n",
    "\"POS possessive ending parent’s \",    \n",
    "\n",
    "\"PRP personal pronoun –  I, he, she \",    \n",
    "\n",
    "\"PRP$ possessive pronoun – my, his, hers \",    \n",
    "\n",
    "\"RB adverb – very, silently, \",    \n",
    "\n",
    "\"RBR adverb, comparative – better \",    \n",
    "\n",
    "\"RBS adverb, superlative – best \",    \n",
    "\n",
    "\"RP particle – give up \",    \n",
    "\n",
    "\"TO – to go ‘to’ the store. \",    \n",
    "\n",
    "\"UH interjection – errrrrrrrm \",    \n",
    "\n",
    "\"VB verb, base form – take \",    \n",
    "\n",
    "\"VBD verb, past tense – took \",    \n",
    "\n",
    "\"VBG verb, gerund/present participle – taking \",    \n",
    "\n",
    "\"VBN verb, past participle – taken \",    \n",
    "\n",
    "\"VBP verb, sing. present, non-3d – take \",    \n",
    "\n",
    "\"VBZ verb, 3rd person sing. present – takes \",    \n",
    "\n",
    "\"WDT wh-determiner – which \",    \n",
    "\n",
    "\"WP wh-pronoun – who, what \",    \n",
    "\n",
    "\"WP$ possessive wh-pronoun, eg- whose \",    \n",
    "\n",
    "\"WRB wh-adverb, eg- where, when"
   ]
  },
  {
   "cell_type": "code",
   "execution_count": 21,
   "metadata": {},
   "outputs": [],
   "source": [
    "corpus = \"Natural Language Processing (NLP) is a field of artificial intelligence that focuses on the interaction between computers and humans through natural language. The ultimate goal of NLP is to enable computers to understand, interpret, and respond to human languages in a way that is both meaningful and useful. This involves a range of computational techniques including text analysis, machine translation, and speech recognition.\""
   ]
  },
  {
   "cell_type": "code",
   "execution_count": 6,
   "metadata": {},
   "outputs": [],
   "source": [
    "import nltk\n",
    "\n",
    "from nltk.tokenize import sent_tokenize\n",
    "documents = sent_tokenize(corpus)\n",
    "\n",
    "from nltk.tokenize import RegexpTokenizer\n",
    "tokenizer = RegexpTokenizer(r'\\w+')\n",
    "words = [tokenizer.tokenize(document) for document in documents]\n",
    "\n",
    "from nltk.corpus import stopwords\n",
    "stopwords = stopwords.words('english')"
   ]
  },
  {
   "cell_type": "code",
   "execution_count": 24,
   "metadata": {},
   "outputs": [
    {
     "name": "stdout",
     "output_type": "stream",
     "text": [
      "[('Natural', 'JJ'), ('Language', 'NNP'), ('Processing', 'NNP'), ('NLP', 'NNP'), ('field', 'NN'), ('artificial', 'JJ'), ('intelligence', 'NN'), ('focuses', 'VBZ'), ('interaction', 'NN'), ('computers', 'NNS'), ('humans', 'VBZ'), ('natural', 'JJ'), ('language', 'NN')]\n",
      "[('The', 'DT'), ('ultimate', 'JJ'), ('goal', 'NN'), ('NLP', 'NNP'), ('enable', 'JJ'), ('computers', 'NNS'), ('understand', 'VBP'), ('interpret', 'JJ'), ('respond', 'NN'), ('human', 'JJ'), ('languages', 'VBZ'), ('way', 'NN'), ('meaningful', 'JJ'), ('useful', 'JJ')]\n",
      "[('This', 'DT'), ('involves', 'VBZ'), ('range', 'VBP'), ('computational', 'JJ'), ('techniques', 'NNS'), ('including', 'VBG'), ('text', 'JJ'), ('analysis', 'NN'), ('machine', 'NN'), ('translation', 'NN'), ('speech', 'NN'), ('recognition', 'NN')]\n"
     ]
    }
   ],
   "source": [
    "# nltk.download('averaged_perceptron_tagger')\n",
    "\n",
    "for i in range(len(words)):\n",
    "    words[i] = [word for word in words[i] if word not in stopwords]\n",
    "    pos_tag = nltk.pos_tag(words[i])\n",
    "    print(pos_tag)"
   ]
  },
  {
   "cell_type": "code",
   "execution_count": null,
   "metadata": {},
   "outputs": [],
   "source": []
  }
 ],
 "metadata": {
  "kernelspec": {
   "display_name": "Python 3",
   "language": "python",
   "name": "python3"
  },
  "language_info": {
   "codemirror_mode": {
    "name": "ipython",
    "version": 3
   },
   "file_extension": ".py",
   "mimetype": "text/x-python",
   "name": "python",
   "nbconvert_exporter": "python",
   "pygments_lexer": "ipython3",
   "version": "3.11.4"
  }
 },
 "nbformat": 4,
 "nbformat_minor": 2
}
