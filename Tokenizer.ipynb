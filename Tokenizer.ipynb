{
 "cells": [
  {
   "cell_type": "code",
   "execution_count": 1,
   "metadata": {},
   "outputs": [
    {
     "name": "stdout",
     "output_type": "stream",
     "text": [
      "Hello everyone! I am Sowmya.\n",
      "I am an AI's enthusiast.\n",
      "I am currently learning NLP.\n",
      "NLP stands for Natural Language Processing.\n"
     ]
    }
   ],
   "source": [
    "corpus = \"\"\"Hello everyone! I am Sowmya.\n",
    "I am an AI's enthusiast.\n",
    "I am currently learning NLP.\n",
    "NLP stands for Natural Language Processing.\"\"\"\n",
    "\n",
    "print(corpus)"
   ]
  },
  {
   "cell_type": "code",
   "execution_count": 9,
   "metadata": {},
   "outputs": [],
   "source": [
    "import nltk\n",
    "nltk.download('punkt')"
   ]
  },
  {
   "cell_type": "code",
   "execution_count": 2,
   "metadata": {},
   "outputs": [
    {
     "data": {
      "text/plain": [
       "['Hello everyone!',\n",
       " 'I am Sowmya.',\n",
       " \"I am an AI's enthusiast.\",\n",
       " 'I am currently learning NLP.',\n",
       " 'NLP stands for Natural Language Processing.']"
      ]
     },
     "execution_count": 2,
     "metadata": {},
     "output_type": "execute_result"
    }
   ],
   "source": [
    "from nltk.tokenize import sent_tokenize\n",
    "documents = sent_tokenize(corpus)\n",
    "documents"
   ]
  },
  {
   "cell_type": "code",
   "execution_count": 3,
   "metadata": {},
   "outputs": [
    {
     "data": {
      "text/plain": [
       "[['Hello', 'everyone', '!'],\n",
       " ['I', 'am', 'Sowmya', '.'],\n",
       " ['I', 'am', 'an', 'AI', \"'s\", 'enthusiast', '.'],\n",
       " ['I', 'am', 'currently', 'learning', 'NLP', '.'],\n",
       " ['NLP', 'stands', 'for', 'Natural', 'Language', 'Processing', '.']]"
      ]
     },
     "execution_count": 3,
     "metadata": {},
     "output_type": "execute_result"
    }
   ],
   "source": [
    "from nltk.tokenize import word_tokenize\n",
    "words = [word_tokenize(document) for document in documents]\n",
    "words"
   ]
  },
  {
   "cell_type": "code",
   "execution_count": 4,
   "metadata": {},
   "outputs": [
    {
     "data": {
      "text/plain": [
       "[['Hello', 'everyone', '!'],\n",
       " ['I', 'am', 'Sowmya', '.'],\n",
       " ['I', 'am', 'an', 'AI', \"'\", 's', 'enthusiast', '.'],\n",
       " ['I', 'am', 'currently', 'learning', 'NLP', '.'],\n",
       " ['NLP', 'stands', 'for', 'Natural', 'Language', 'Processing', '.']]"
      ]
     },
     "execution_count": 4,
     "metadata": {},
     "output_type": "execute_result"
    }
   ],
   "source": [
    "from nltk.tokenize import wordpunct_tokenize\n",
    "words_punct = [wordpunct_tokenize(document) for document in documents]\n",
    "words_punct"
   ]
  },
  {
   "cell_type": "code",
   "execution_count": 5,
   "metadata": {},
   "outputs": [
    {
     "data": {
      "text/plain": [
       "['Hello',\n",
       " 'everyone',\n",
       " '!',\n",
       " 'I',\n",
       " 'am',\n",
       " 'Sowmya.',\n",
       " 'I',\n",
       " 'am',\n",
       " 'an',\n",
       " 'AI',\n",
       " \"'s\",\n",
       " 'enthusiast.',\n",
       " 'I',\n",
       " 'am',\n",
       " 'currently',\n",
       " 'learning',\n",
       " 'NLP.',\n",
       " 'NLP',\n",
       " 'stands',\n",
       " 'for',\n",
       " 'Natural',\n",
       " 'Language',\n",
       " 'Processing',\n",
       " '.']"
      ]
     },
     "execution_count": 5,
     "metadata": {},
     "output_type": "execute_result"
    }
   ],
   "source": [
    "from nltk.tokenize import TreebankWordTokenizer\n",
    "tokenizer = TreebankWordTokenizer()\n",
    "words_treebank = tokenizer.tokenize(corpus) \n",
    "words_treebank"
   ]
  },
  {
   "cell_type": "code",
   "execution_count": 6,
   "metadata": {},
   "outputs": [
    {
     "data": {
      "text/plain": [
       "[['Hello', 'everyone'],\n",
       " ['I', 'am', 'Sowmya'],\n",
       " ['I', 'am', 'an', 'AI', 's', 'enthusiast'],\n",
       " ['I', 'am', 'currently', 'learning', 'NLP'],\n",
       " ['NLP', 'stands', 'for', 'Natural', 'Language', 'Processing']]"
      ]
     },
     "execution_count": 6,
     "metadata": {},
     "output_type": "execute_result"
    }
   ],
   "source": [
    "from nltk.tokenize import RegexpTokenizer\n",
    "tokenizer = RegexpTokenizer(r'\\w+')\n",
    "words_regexp = [tokenizer.tokenize(document) for document in documents]\n",
    "words_regexp"
   ]
  },
  {
   "cell_type": "code",
   "execution_count": 8,
   "metadata": {},
   "outputs": [
    {
     "data": {
      "text/plain": [
       "[['Hello', 'everyone', '!'],\n",
       " ['I', 'am', 'Sowmya', '.'],\n",
       " ['I', 'am', 'an', 'AI', \"'s\", 'enthusiast', '.'],\n",
       " ['I', 'am', 'currently', 'learning', 'NLP', '.'],\n",
       " ['NLP', 'stands', 'for', 'Natural_Language_Processing', '.']]"
      ]
     },
     "execution_count": 8,
     "metadata": {},
     "output_type": "execute_result"
    }
   ],
   "source": [
    "from nltk.tokenize import MWETokenizer\n",
    "tokenizer = MWETokenizer([('Natural', 'Language', 'Processing')])\n",
    "words_mwe = [tokenizer.tokenize(word) for word in words]\n",
    "words_mwe"
   ]
  },
  {
   "cell_type": "code",
   "execution_count": 9,
   "metadata": {},
   "outputs": [
    {
     "data": {
      "text/plain": [
       "[['Hello', 'everyone!'],\n",
       " ['I', 'am', 'Sowmya.'],\n",
       " ['I', 'am', 'an', \"AI's\", 'enthusiast.'],\n",
       " ['I', 'am', 'currently', 'learning', 'NLP.'],\n",
       " ['NLP', 'stands', 'for', 'Natural', 'Language', 'Processing.']]"
      ]
     },
     "execution_count": 9,
     "metadata": {},
     "output_type": "execute_result"
    }
   ],
   "source": [
    "from nltk.tokenize import WhitespaceTokenizer\n",
    "tokenizer = WhitespaceTokenizer()\n",
    "words_whitespace = [tokenizer.tokenize(document) for document in documents]\n",
    "words_whitespace"
   ]
  },
  {
   "cell_type": "code",
   "execution_count": 13,
   "metadata": {},
   "outputs": [
    {
     "data": {
      "text/html": [
       "<div>\n",
       "<style scoped>\n",
       "    .dataframe tbody tr th:only-of-type {\n",
       "        vertical-align: middle;\n",
       "    }\n",
       "\n",
       "    .dataframe tbody tr th {\n",
       "        vertical-align: top;\n",
       "    }\n",
       "\n",
       "    .dataframe thead th {\n",
       "        text-align: right;\n",
       "    }\n",
       "</style>\n",
       "<table border=\"1\" class=\"dataframe\">\n",
       "  <thead>\n",
       "    <tr style=\"text-align: right;\">\n",
       "      <th></th>\n",
       "      <th>Original_words</th>\n",
       "      <th>WordPunct</th>\n",
       "      <th>RegExp</th>\n",
       "      <th>mwe</th>\n",
       "      <th>Whitespace</th>\n",
       "    </tr>\n",
       "  </thead>\n",
       "  <tbody>\n",
       "    <tr>\n",
       "      <th>0</th>\n",
       "      <td>[Hello, everyone, !]</td>\n",
       "      <td>[Hello, everyone, !]</td>\n",
       "      <td>[Hello, everyone]</td>\n",
       "      <td>[Hello, everyone, !]</td>\n",
       "      <td>[Hello, everyone!]</td>\n",
       "    </tr>\n",
       "    <tr>\n",
       "      <th>1</th>\n",
       "      <td>[I, am, Sowmya, .]</td>\n",
       "      <td>[I, am, Sowmya, .]</td>\n",
       "      <td>[I, am, Sowmya]</td>\n",
       "      <td>[I, am, Sowmya, .]</td>\n",
       "      <td>[I, am, Sowmya.]</td>\n",
       "    </tr>\n",
       "    <tr>\n",
       "      <th>2</th>\n",
       "      <td>[I, am, an, AI, 's, enthusiast, .]</td>\n",
       "      <td>[I, am, an, AI, ', s, enthusiast, .]</td>\n",
       "      <td>[I, am, an, AI, s, enthusiast]</td>\n",
       "      <td>[I, am, an, AI, 's, enthusiast, .]</td>\n",
       "      <td>[I, am, an, AI's, enthusiast.]</td>\n",
       "    </tr>\n",
       "    <tr>\n",
       "      <th>3</th>\n",
       "      <td>[I, am, currently, learning, NLP, .]</td>\n",
       "      <td>[I, am, currently, learning, NLP, .]</td>\n",
       "      <td>[I, am, currently, learning, NLP]</td>\n",
       "      <td>[I, am, currently, learning, NLP, .]</td>\n",
       "      <td>[I, am, currently, learning, NLP.]</td>\n",
       "    </tr>\n",
       "    <tr>\n",
       "      <th>4</th>\n",
       "      <td>[NLP, stands, for, Natural, Language, Processi...</td>\n",
       "      <td>[NLP, stands, for, Natural, Language, Processi...</td>\n",
       "      <td>[NLP, stands, for, Natural, Language, Processing]</td>\n",
       "      <td>[NLP, stands, for, Natural_Language_Processing...</td>\n",
       "      <td>[NLP, stands, for, Natural, Language, Processi...</td>\n",
       "    </tr>\n",
       "  </tbody>\n",
       "</table>\n",
       "</div>"
      ],
      "text/plain": [
       "                                      Original_words  \\\n",
       "0                               [Hello, everyone, !]   \n",
       "1                                 [I, am, Sowmya, .]   \n",
       "2                 [I, am, an, AI, 's, enthusiast, .]   \n",
       "3               [I, am, currently, learning, NLP, .]   \n",
       "4  [NLP, stands, for, Natural, Language, Processi...   \n",
       "\n",
       "                                           WordPunct  \\\n",
       "0                               [Hello, everyone, !]   \n",
       "1                                 [I, am, Sowmya, .]   \n",
       "2               [I, am, an, AI, ', s, enthusiast, .]   \n",
       "3               [I, am, currently, learning, NLP, .]   \n",
       "4  [NLP, stands, for, Natural, Language, Processi...   \n",
       "\n",
       "                                              RegExp  \\\n",
       "0                                  [Hello, everyone]   \n",
       "1                                    [I, am, Sowmya]   \n",
       "2                     [I, am, an, AI, s, enthusiast]   \n",
       "3                  [I, am, currently, learning, NLP]   \n",
       "4  [NLP, stands, for, Natural, Language, Processing]   \n",
       "\n",
       "                                                 mwe  \\\n",
       "0                               [Hello, everyone, !]   \n",
       "1                                 [I, am, Sowmya, .]   \n",
       "2                 [I, am, an, AI, 's, enthusiast, .]   \n",
       "3               [I, am, currently, learning, NLP, .]   \n",
       "4  [NLP, stands, for, Natural_Language_Processing...   \n",
       "\n",
       "                                          Whitespace  \n",
       "0                                 [Hello, everyone!]  \n",
       "1                                   [I, am, Sowmya.]  \n",
       "2                     [I, am, an, AI's, enthusiast.]  \n",
       "3                 [I, am, currently, learning, NLP.]  \n",
       "4  [NLP, stands, for, Natural, Language, Processi...  "
      ]
     },
     "execution_count": 13,
     "metadata": {},
     "output_type": "execute_result"
    }
   ],
   "source": [
    "import pandas as pd\n",
    "tokenizer_df = pd.DataFrame()\n",
    "\n",
    "tokenizer_df['Original_words'] = words\n",
    "tokenizer_df['WordPunct'] = words_punct\n",
    "tokenizer_df['RegExp'] = words_regexp\n",
    "tokenizer_df['mwe'] = words_mwe\n",
    "tokenizer_df['Whitespace'] = words_whitespace\n",
    "\n",
    "tokenizer_df"
   ]
  }
 ],
 "metadata": {
  "kernelspec": {
   "display_name": "Python 3",
   "language": "python",
   "name": "python3"
  },
  "language_info": {
   "codemirror_mode": {
    "name": "ipython",
    "version": 3
   },
   "file_extension": ".py",
   "mimetype": "text/x-python",
   "name": "python",
   "nbconvert_exporter": "python",
   "pygments_lexer": "ipython3",
   "version": "3.11.4"
  }
 },
 "nbformat": 4,
 "nbformat_minor": 2
}
